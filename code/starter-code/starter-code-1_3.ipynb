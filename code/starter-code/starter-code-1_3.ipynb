{
 "cells": [
  {
   "cell_type": "markdown",
   "metadata": {},
   "source": [
    "# Multi-table Datasets - ENRON Archive"
   ]
  },
  {
   "cell_type": "markdown",
   "metadata": {},
   "source": [
    "## 1. Data import\n",
    "\n",
    "Connect to the file 'assets/datasets/enron.db' using one of these methods:\n",
    "\n",
    "- sqlite3 python package\n",
    "- pandas.read_sql\n",
    "- SQLite Manager Firefox extension\n",
    "\n",
    "Take a look at the database and query the master table. How many Tables are there in the db?\n",
    "\n",
    "> Answer:\n",
    "There are 3 tables:\n",
    "- MessageBase\n",
    "- RecipientBase\n",
    "- EmployeeBase"
   ]
  },
  {
   "cell_type": "code",
   "execution_count": 1,
   "metadata": {
    "collapsed": false
   },
   "outputs": [],
   "source": [
    "import sqlite3\n",
    "conn = sqlite3.connect('../../assets/datasets/enron.db') \n",
    "c = conn.cursor()\n"
   ]
  },
  {
   "cell_type": "code",
   "execution_count": 5,
   "metadata": {
    "collapsed": false
   },
   "outputs": [
    {
     "name": "stdout",
     "output_type": "stream",
     "text": [
      "[(u'MessageBase',), (u'RecipientBase',), (u'EmployeeBase',)]\n"
     ]
    }
   ],
   "source": [
    "print c.execute(\"SELECT name FROM sqlite_master WHERE type='table';\").fetchall()\n",
    "conn.commit()"
   ]
  },
  {
   "cell_type": "markdown",
   "metadata": {},
   "source": [
    "Query the `sqlite_master` table to retrieve the schema of the `EmployeeBase` table.\n",
    "\n",
    "1. What fields are there?\n",
    "1. What's the type of each of them?"
   ]
  },
  {
   "cell_type": "code",
   "execution_count": 26,
   "metadata": {
    "collapsed": false
   },
   "outputs": [
    {
     "name": "stdout",
     "output_type": "stream",
     "text": [
      "[(u'CREATE TABLE EmployeeBase (\\n                  [eid] INTEGER,\\n  [name] TEXT,\\n  [department] TEXT,\\n  [longdepartment] TEXT,\\n  [title] TEXT,\\n  [gender] TEXT,\\n  [seniority] TEXT\\n                  \\n                  )',)]\n",
      "[(u'CREATE TABLE RecipientBase (\\n    mid INTEGER,\\n    rno INTEGER,\\n    to_eid INTEGER,\\n    \\n    PRIMARY KEY(mid ASC, rno ASC)\\n    FOREIGN KEY(mid) REFERENCES Message(mid)\\n    FOREIGN KEY(to_eid) REFERENCES Employee(eid)\\n)',)]\n",
      "[(u'CREATE TABLE MessageBase (\\n    mid INTEGER,\\n    filename TEXT,\\n    unix_time INTEGER,\\n    subject TEXT,\\n    from_eid INTEGER,\\n    \\n    PRIMARY KEY(mid ASC),\\n    FOREIGN KEY(from_eid) REFERENCES Employee(eid)\\n)',)]\n"
     ]
    }
   ],
   "source": [
    "print c.execute('select sql from sqlite_master where type = \"table\" and name = \"EmployeeBase\"').fetchall()\n",
    "print c.execute('select sql from sqlite_master where type = \"table\" and name = \"RecipientBase\"').fetchall()\n",
    "print c.execute('select sql from sqlite_master where type = \"table\" and name = \"MessageBase\"').fetchall()\n",
    "conn.commit()"
   ]
  },
  {
   "cell_type": "code",
   "execution_count": 28,
   "metadata": {
    "collapsed": false
   },
   "outputs": [
    {
     "data": {
      "text/plain": [
       "[(0, u'eid', u'INTEGER', 0, None, 0),\n",
       " (1, u'name', u'TEXT', 0, None, 0),\n",
       " (2, u'department', u'TEXT', 0, None, 0),\n",
       " (3, u'longdepartment', u'TEXT', 0, None, 0),\n",
       " (4, u'title', u'TEXT', 0, None, 0),\n",
       " (5, u'gender', u'TEXT', 0, None, 0),\n",
       " (6, u'seniority', u'TEXT', 0, None, 0)]"
      ]
     },
     "execution_count": 28,
     "metadata": {},
     "output_type": "execute_result"
    }
   ],
   "source": [
    "c.execute(\"PRAGMA table_info('EmployeeBase')\").fetchall()"
   ]
  },
  {
   "cell_type": "code",
   "execution_count": 24,
   "metadata": {
    "collapsed": false
   },
   "outputs": [
    {
     "data": {
      "text/plain": [
       "[(0, u'mid', u'INTEGER', 0, None, 1),\n",
       " (1, u'rno', u'INTEGER', 0, None, 2),\n",
       " (2, u'to_eid', u'INTEGER', 0, None, 0)]"
      ]
     },
     "execution_count": 24,
     "metadata": {},
     "output_type": "execute_result"
    }
   ],
   "source": [
    "c.execute(\"PRAGMA table_info('RecipientBase')\").fetchall()"
   ]
  },
  {
   "cell_type": "code",
   "execution_count": 25,
   "metadata": {
    "collapsed": false
   },
   "outputs": [
    {
     "data": {
      "text/plain": [
       "[(0, u'mid', u'INTEGER', 0, None, 1),\n",
       " (1, u'filename', u'TEXT', 0, None, 0),\n",
       " (2, u'unix_time', u'INTEGER', 0, None, 0),\n",
       " (3, u'subject', u'TEXT', 0, None, 0),\n",
       " (4, u'from_eid', u'INTEGER', 0, None, 0)]"
      ]
     },
     "execution_count": 25,
     "metadata": {},
     "output_type": "execute_result"
    }
   ],
   "source": [
    "c.execute(\"PRAGMA table_info('MessageBase')\").fetchall()"
   ]
  },
  {
   "cell_type": "code",
   "execution_count": 29,
   "metadata": {
    "collapsed": true
   },
   "outputs": [],
   "source": [
    "conn.commit()"
   ]
  },
  {
   "cell_type": "markdown",
   "metadata": {},
   "source": [
    "1. Print the first 5 rows of EmployeeBase table\n",
    "1. Print the first 5 rows of MessageBase table\n",
    "1. Print the first 5 rows of RecipientBase table\n",
    "\n",
    "**Hint**  use `SELECT` and `LIMIT`."
   ]
  },
  {
   "cell_type": "code",
   "execution_count": 50,
   "metadata": {
    "collapsed": false
   },
   "outputs": [
    {
     "name": "stdout",
     "output_type": "stream",
     "text": [
      "First 5 rows of EmployeeBase table :\n",
      "(1, u'John Arnold', u'Forestry', u'ENA Gas Financial', u'VP Trading', u'Male', u'Senior')\n",
      "(2, u'Harry Arora', u'Forestry', u'ENA East Power', u'VP Trading', u'Male', u'Senior')\n",
      "(3, u'Robert Badeer', u'Forestry', u'ENA West Power', u'Mgr Trading', u'Male', u'Junior')\n",
      "(4, u'Susan Bailey', u'Legal', u'ENA Legal', u'Specialist Legal', u'Female', u'Junior')\n",
      "(5, u'Eric Bass', u'Forestry', u'ENA Gas Texas', u'Trader', u'Male', u'Junior')\n",
      "First 5 rows of MessageBase table :\n",
      "(1, u'taylor-m/sent/11', 910930020, u'Cd$ CME letter', 138)\n",
      "(2, u'taylor-m/sent/17', 911459940, u'Indemnification', 138)\n",
      "(3, u'taylor-m/sent/18', 911463840, u'Re: Indemnification', 138)\n",
      "(4, u'taylor-m/sent/23', 911874180, u'Re: Coral Energy, L.P.', 138)\n",
      "(5, u'taylor-m/sent/27', 912396120, u'Bankruptcy Code revisions', 138)\n",
      "First 5 rows of RecipientBase table : \n",
      "(1, 1, 59)\n",
      "(2, 1, 15)\n",
      "(3, 1, 15)\n",
      "(4, 1, 109)\n",
      "(4, 2, 49)\n"
     ]
    }
   ],
   "source": [
    "results =  c.execute(\"SELECT * FROM EmployeeBase limit 5\").fetchall()\n",
    "print \"First 5 rows of EmployeeBase table :\"\n",
    "for x in results:\n",
    "    print x\n",
    "results = c.execute(\"SELECT * FROM MessageBase limit 5\").fetchall()\n",
    "print \"First 5 rows of MessageBase table :\"\n",
    "for x in results:\n",
    "    print x\n",
    "results = c.execute(\"SELECT * FROM RecipientBase limit 5\").fetchall()\n",
    "print \"First 5 rows of RecipientBase table : \"\n",
    "for x in results:\n",
    "    print x\n",
    "\n",
    "conn.commit()"
   ]
  },
  {
   "cell_type": "markdown",
   "metadata": {},
   "source": [
    "Import each of the 3 tables to a Pandas Dataframes"
   ]
  },
  {
   "cell_type": "code",
   "execution_count": 51,
   "metadata": {
    "collapsed": false
   },
   "outputs": [],
   "source": [
    "import pandas as pd\n",
    "emp = pd.DataFrame(c.execute(\"SELECT * FROM EmployeeBase\").fetchall())\n",
    "emp.columns = ['eid','name','department','longdepartment','title','gender','seniority']\n",
    "\n",
    "mes = pd.DataFrame(c.execute(\"SELECT * FROM MessageBase\").fetchall())\n",
    "mes.columns = ['mid','filename','unix_time','subject','from_eid']\n",
    "\n",
    "rec = pd.DataFrame(c.execute(\"SELECT * FROM RecipientBase\").fetchall())\n",
    "rec.columns = ['mid','rno','to_eid']\n",
    "\n",
    "conn.commit()"
   ]
  },
  {
   "cell_type": "code",
   "execution_count": 63,
   "metadata": {
    "collapsed": false
   },
   "outputs": [
    {
     "data": {
      "text/html": [
       "<div>\n",
       "<table border=\"1\" class=\"dataframe\">\n",
       "  <thead>\n",
       "    <tr style=\"text-align: right;\">\n",
       "      <th></th>\n",
       "      <th>mid</th>\n",
       "      <th>filename</th>\n",
       "      <th>unix_time</th>\n",
       "      <th>subject</th>\n",
       "      <th>from_eid</th>\n",
       "    </tr>\n",
       "  </thead>\n",
       "  <tbody>\n",
       "    <tr>\n",
       "      <th>0</th>\n",
       "      <td>1</td>\n",
       "      <td>taylor-m/sent/11</td>\n",
       "      <td>910930020</td>\n",
       "      <td>Cd$ CME letter</td>\n",
       "      <td>138</td>\n",
       "    </tr>\n",
       "    <tr>\n",
       "      <th>1</th>\n",
       "      <td>2</td>\n",
       "      <td>taylor-m/sent/17</td>\n",
       "      <td>911459940</td>\n",
       "      <td>Indemnification</td>\n",
       "      <td>138</td>\n",
       "    </tr>\n",
       "    <tr>\n",
       "      <th>2</th>\n",
       "      <td>3</td>\n",
       "      <td>taylor-m/sent/18</td>\n",
       "      <td>911463840</td>\n",
       "      <td>Re: Indemnification</td>\n",
       "      <td>138</td>\n",
       "    </tr>\n",
       "    <tr>\n",
       "      <th>3</th>\n",
       "      <td>4</td>\n",
       "      <td>taylor-m/sent/23</td>\n",
       "      <td>911874180</td>\n",
       "      <td>Re: Coral Energy, L.P.</td>\n",
       "      <td>138</td>\n",
       "    </tr>\n",
       "    <tr>\n",
       "      <th>4</th>\n",
       "      <td>5</td>\n",
       "      <td>taylor-m/sent/27</td>\n",
       "      <td>912396120</td>\n",
       "      <td>Bankruptcy Code revisions</td>\n",
       "      <td>138</td>\n",
       "    </tr>\n",
       "  </tbody>\n",
       "</table>\n",
       "</div>"
      ],
      "text/plain": [
       "   mid          filename  unix_time                    subject  from_eid\n",
       "0    1  taylor-m/sent/11  910930020             Cd$ CME letter       138\n",
       "1    2  taylor-m/sent/17  911459940            Indemnification       138\n",
       "2    3  taylor-m/sent/18  911463840        Re: Indemnification       138\n",
       "3    4  taylor-m/sent/23  911874180     Re: Coral Energy, L.P.       138\n",
       "4    5  taylor-m/sent/27  912396120  Bankruptcy Code revisions       138"
      ]
     },
     "execution_count": 63,
     "metadata": {},
     "output_type": "execute_result"
    }
   ],
   "source": [
    "mes.head()"
   ]
  },
  {
   "cell_type": "markdown",
   "metadata": {},
   "source": [
    "## 2. Data Exploration\n",
    "\n",
    "Use the 3 dataframes to answer the following questions:\n",
    "\n",
    "1. How many employees are there in the company?\n",
    "- How many messages are there in the database?\n",
    "- Convert the timestamp column in the messages. When was the oldest message sent? And the newest?\n",
    "- Some messages are sent to more than one recipient. Group the messages by message_id and count the number of recepients. Then look at the distribution of recepient numbers.\n",
    "    - How many messages have only one recepient?\n",
    "    - How many messages have >= 5 recepients?\n",
    "    - What's the highest number of recepients?\n",
    "    - Who sent the message with the highest number of recepients?\n",
    "- Plot the distribution of recepient numbers using Bokeh."
   ]
  },
  {
   "cell_type": "code",
   "execution_count": 125,
   "metadata": {
    "collapsed": false
   },
   "outputs": [
    {
     "name": "stdout",
     "output_type": "stream",
     "text": [
      "1. Employees in the company :  156\n",
      "2. Total number of messages :  21635\n"
     ]
    }
   ],
   "source": [
    "print \"1. Employees in the company : \" ,len(emp)\n",
    "print \"2. Total number of messages : \" ,len(mes)"
   ]
  },
  {
   "cell_type": "code",
   "execution_count": 73,
   "metadata": {
    "collapsed": false
   },
   "outputs": [
    {
     "data": {
      "text/plain": [
       "Timestamp('2002-06-21 13:37:34')"
      ]
     },
     "execution_count": 73,
     "metadata": {},
     "output_type": "execute_result"
    }
   ],
   "source": [
    "mes.unix_time = pd.to_datetime(mes.unix_time, unit='s')"
   ]
  },
  {
   "cell_type": "code",
   "execution_count": 230,
   "metadata": {
    "collapsed": false
   },
   "outputs": [
    {
     "name": "stdout",
     "output_type": "stream",
     "text": [
      "3.a Oldest Message sent on :  1998-11-13 04:07:00\n",
      "3.b Newest Message sent on :  2002-06-21 13:37:34\n"
     ]
    }
   ],
   "source": [
    "print \"3.a Oldest Message sent on : \", min(mes.unix_time)\n",
    "print \"3.b Newest Message sent on : \", max(mes.unix_time)"
   ]
  },
  {
   "cell_type": "code",
   "execution_count": 229,
   "metadata": {
    "collapsed": false
   },
   "outputs": [
    {
     "name": "stdout",
     "output_type": "stream",
     "text": [
      "4.a. Number of messages with only 1 Recepient :  14985\n",
      "4.b. Number of messages with >= 5 recepients :  1380\n",
      "4.c. Highest number of recepients :  57\n",
      "4.d. Message with highest number of recepient is sent by:  John J. Lavorato\n"
     ]
    }
   ],
   "source": [
    "# Group By for message ID\n",
    "a = rec.groupby(['mid'])['rno'].count()\n",
    "\n",
    "print \"4.a. Number of messages with only 1 Recepient : \" , len(a[a.values ==1])\n",
    "print \"4.b. Number of messages with >= 5 recepients : \" , len(a[a.values >= 5])\n",
    "print \"4.c. Highest number of recepients : \" , max(a)\n",
    "\n",
    "rec[rec.rno == 57]['mid']\n",
    "mes[mes.mid == 12116]['from_eid'].values\n",
    "name = emp[emp.eid == 67]['name']\n",
    "print \"4.d. Message with highest number of recepient is sent by: \", name.values[0]\n"
   ]
  },
  {
   "cell_type": "code",
   "execution_count": 234,
   "metadata": {
    "collapsed": false
   },
   "outputs": [
    {
     "data": {
      "image/png": "[encoded data removed]",
      "text/plain": [
       "<matplotlib.figure.Figure at 0x11896ec90>"
      ]
     },
     "metadata": {},
     "output_type": "display_data"
    }
   ],
   "source": [
    "a.plot(kind='hist',figsize =(8,6),bins=40)\n",
    "plt.title(\"5. Distribution of recepient numbers\")\n",
    "plt.show()"
   ]
  },
  {
   "cell_type": "markdown",
   "metadata": {},
   "source": [
    "Rescale to investigate the tail of the curve"
   ]
  },
  {
   "cell_type": "markdown",
   "metadata": {},
   "source": [
    "## 3. Data Merging\n",
    "\n",
    "Use the pandas merge function to combine the information in the 3 dataframes to answer the following questions:\n",
    "\n",
    "1. Are there more Men or Women employees?\n",
    "- How is gender distributed across departments?\n",
    "- Who is sending more emails? Men or Women?\n",
    "- What's the average number of emails sent by each gender?\n",
    "- Are there more Juniors or Seniors?\n",
    "- Who is sending more emails? Juniors or Seniors?\n",
    "- Which department is sending more emails? How does that relate with the number of employees in the department?\n",
    "- Who are the top 3 senders of emails? (people who sent out the most emails)"
   ]
  },
  {
   "cell_type": "code",
   "execution_count": 243,
   "metadata": {
    "collapsed": false
   },
   "outputs": [
    {
     "name": "stdout",
     "output_type": "stream",
     "text": [
      "gender\n",
      "Female     43\n",
      "Male      113\n",
      "Name: eid, dtype: int64\n",
      "Men are more in number\n"
     ]
    }
   ],
   "source": [
    "print emp.groupby(['gender'])['eid'].count()\n",
    "print \"Men are more in number\""
   ]
  },
  {
   "cell_type": "code",
   "execution_count": 246,
   "metadata": {
    "collapsed": false
   },
   "outputs": [
    {
     "data": {
      "text/html": [
       "<div>\n",
       "<table border=\"1\" class=\"dataframe\">\n",
       "  <thead>\n",
       "    <tr style=\"text-align: right;\">\n",
       "      <th>gender</th>\n",
       "      <th>Female</th>\n",
       "      <th>Male</th>\n",
       "    </tr>\n",
       "    <tr>\n",
       "      <th>department</th>\n",
       "      <th></th>\n",
       "      <th></th>\n",
       "    </tr>\n",
       "  </thead>\n",
       "  <tbody>\n",
       "    <tr>\n",
       "      <th>Forestry</th>\n",
       "      <td>10</td>\n",
       "      <td>50</td>\n",
       "    </tr>\n",
       "    <tr>\n",
       "      <th>Legal</th>\n",
       "      <td>13</td>\n",
       "      <td>12</td>\n",
       "    </tr>\n",
       "    <tr>\n",
       "      <th>Other</th>\n",
       "      <td>20</td>\n",
       "      <td>51</td>\n",
       "    </tr>\n",
       "  </tbody>\n",
       "</table>\n",
       "</div>"
      ],
      "text/plain": [
       "gender      Female  Male\n",
       "department              \n",
       "Forestry        10    50\n",
       "Legal           13    12\n",
       "Other           20    51"
      ]
     },
     "execution_count": 246,
     "metadata": {},
     "output_type": "execute_result"
    }
   ],
   "source": [
    "pd.pivot_table(emp[['department','gender']], columns = ['gender'], index = ['department'], aggfunc = len)"
   ]
  },
  {
   "cell_type": "code",
   "execution_count": 260,
   "metadata": {
    "collapsed": false
   },
   "outputs": [
    {
     "name": "stdout",
     "output_type": "stream",
     "text": [
      "3. Number of messages sent by Gender : \n",
      "gender\n",
      "Female     8794\n",
      "Male      12841\n",
      "Name: eid, dtype: int64\n"
     ]
    }
   ],
   "source": [
    "empmes = emp.merge(mes, how='inner', left_on ='eid', right_on = 'from_eid' )\n",
    "\n",
    "print \"3. Number of Emails sent by Gender : \\n\", empmes.groupby(['gender'])['eid'].count() "
   ]
  },
  {
   "cell_type": "code",
   "execution_count": 281,
   "metadata": {
    "collapsed": false
   },
   "outputs": [
    {
     "name": "stdout",
     "output_type": "stream",
     "text": [
      "Avg emails sent by males: 113.637168142\n",
      "Avg emails sent by females: 204.511627907\n"
     ]
    }
   ],
   "source": [
    "print \"Avg emails sent by males:\", len(empmes[(empmes['gender'] == 'Male')])/float(len(emp[(emp['gender'] == 'Male')]))\n",
    "print \"Avg emails sent by females:\", len(empmes[(empmes['gender'] == 'Female')])/float(len(emp[(emp['gender'] == 'Female')]))"
   ]
  },
  {
   "cell_type": "code",
   "execution_count": 283,
   "metadata": {
    "collapsed": false
   },
   "outputs": [
    {
     "data": {
      "text/plain": [
       "seniority\n",
       "Junior    82\n",
       "Senior    74\n",
       "Name: eid, dtype: int64"
      ]
     },
     "execution_count": 283,
     "metadata": {},
     "output_type": "execute_result"
    }
   ],
   "source": [
    "emp.groupby(['seniority'])['eid'].count()"
   ]
  },
  {
   "cell_type": "code",
   "execution_count": 285,
   "metadata": {
    "collapsed": false
   },
   "outputs": [
    {
     "name": "stdout",
     "output_type": "stream",
     "text": [
      "6. Number of Emails sent by seniority : \n",
      "seniority\n",
      "Junior     9196\n",
      "Senior    12439\n",
      "Name: eid, dtype: int64\n"
     ]
    }
   ],
   "source": [
    "print \"6. Number of Emails sent by seniority : \\n\", empmes.groupby(['seniority'])['eid'].count() "
   ]
  },
  {
   "cell_type": "code",
   "execution_count": 291,
   "metadata": {
    "collapsed": false
   },
   "outputs": [
    {
     "name": "stdout",
     "output_type": "stream",
     "text": [
      "Number of emails by department: \n",
      "Legal       10396\n",
      "Other        6852\n",
      "Forestry     4387\n",
      "Name: department, dtype: int64\n",
      "Number of Employees by department: \n",
      "Other       71\n",
      "Forestry    60\n",
      "Legal       25\n",
      "Name: department, dtype: int64\n"
     ]
    }
   ],
   "source": [
    "print \"Number of emails by department: \\n\", empmes.department.value_counts()\n",
    "print \"Number of Employees by department: \\n\", emp.department.value_counts()"
   ]
  },
  {
   "cell_type": "code",
   "execution_count": 296,
   "metadata": {
    "collapsed": false
   },
   "outputs": [
    {
     "name": "stdout",
     "output_type": "stream",
     "text": [
      "8: Top 3 Employees who send most Emails\n"
     ]
    },
    {
     "data": {
      "text/plain": [
       "Jeff Dasovich      1597\n",
       "Tana Jones         1379\n",
       "Sara Shackleton    1142\n",
       "Name: name, dtype: int64"
      ]
     },
     "execution_count": 296,
     "metadata": {},
     "output_type": "execute_result"
    }
   ],
   "source": [
    "print \"8: Top 3 Employees who send most Emails\"\n",
    "empmes.name.value_counts()[:3]"
   ]
  },
  {
   "cell_type": "markdown",
   "metadata": {},
   "source": [
    "Answer the following questions regarding received messages:\n",
    "\n",
    "- Who is receiving more emails? Men or Women?\n",
    "- Who is receiving more emails? Juniors or Seniors?\n",
    "- Which department is receiving more emails? How does that relate with the number of employees in the department?\n",
    "- Who are the top 5 receivers of emails? (people who received the most emails)"
   ]
  },
  {
   "cell_type": "code",
   "execution_count": 303,
   "metadata": {
    "collapsed": false
   },
   "outputs": [
    {
     "name": "stdout",
     "output_type": "stream",
     "text": [
      "38388\n"
     ]
    },
    {
     "data": {
      "text/html": [
       "<div>\n",
       "<table border=\"1\" class=\"dataframe\">\n",
       "  <thead>\n",
       "    <tr style=\"text-align: right;\">\n",
       "      <th></th>\n",
       "      <th>eid</th>\n",
       "      <th>name</th>\n",
       "      <th>department</th>\n",
       "      <th>longdepartment</th>\n",
       "      <th>title</th>\n",
       "      <th>gender</th>\n",
       "      <th>seniority</th>\n",
       "      <th>mid</th>\n",
       "      <th>filename</th>\n",
       "      <th>unix_time</th>\n",
       "      <th>subject</th>\n",
       "      <th>from_eid</th>\n",
       "      <th>rno</th>\n",
       "      <th>to_eid</th>\n",
       "    </tr>\n",
       "  </thead>\n",
       "  <tbody>\n",
       "    <tr>\n",
       "      <th>0</th>\n",
       "      <td>1</td>\n",
       "      <td>John Arnold</td>\n",
       "      <td>Forestry</td>\n",
       "      <td>ENA Gas Financial</td>\n",
       "      <td>VP Trading</td>\n",
       "      <td>Male</td>\n",
       "      <td>Senior</td>\n",
       "      <td>1611</td>\n",
       "      <td>arnold-j/sent/379</td>\n",
       "      <td>2000-03-29 08:08:00</td>\n",
       "      <td>Re: Insurance Call Spread</td>\n",
       "      <td>1</td>\n",
       "      <td>1</td>\n",
       "      <td>42</td>\n",
       "    </tr>\n",
       "    <tr>\n",
       "      <th>1</th>\n",
       "      <td>1</td>\n",
       "      <td>John Arnold</td>\n",
       "      <td>Forestry</td>\n",
       "      <td>ENA Gas Financial</td>\n",
       "      <td>VP Trading</td>\n",
       "      <td>Male</td>\n",
       "      <td>Senior</td>\n",
       "      <td>1615</td>\n",
       "      <td>arnold-j/sent/377</td>\n",
       "      <td>2000-03-29 11:22:00</td>\n",
       "      <td>New curve generation methodology</td>\n",
       "      <td>1</td>\n",
       "      <td>1</td>\n",
       "      <td>76</td>\n",
       "    </tr>\n",
       "    <tr>\n",
       "      <th>2</th>\n",
       "      <td>1</td>\n",
       "      <td>John Arnold</td>\n",
       "      <td>Forestry</td>\n",
       "      <td>ENA Gas Financial</td>\n",
       "      <td>VP Trading</td>\n",
       "      <td>Male</td>\n",
       "      <td>Senior</td>\n",
       "      <td>1615</td>\n",
       "      <td>arnold-j/sent/377</td>\n",
       "      <td>2000-03-29 11:22:00</td>\n",
       "      <td>New curve generation methodology</td>\n",
       "      <td>1</td>\n",
       "      <td>2</td>\n",
       "      <td>67</td>\n",
       "    </tr>\n",
       "    <tr>\n",
       "      <th>3</th>\n",
       "      <td>1</td>\n",
       "      <td>John Arnold</td>\n",
       "      <td>Forestry</td>\n",
       "      <td>ENA Gas Financial</td>\n",
       "      <td>VP Trading</td>\n",
       "      <td>Male</td>\n",
       "      <td>Senior</td>\n",
       "      <td>1615</td>\n",
       "      <td>arnold-j/sent/377</td>\n",
       "      <td>2000-03-29 11:22:00</td>\n",
       "      <td>New curve generation methodology</td>\n",
       "      <td>1</td>\n",
       "      <td>3</td>\n",
       "      <td>121</td>\n",
       "    </tr>\n",
       "    <tr>\n",
       "      <th>4</th>\n",
       "      <td>1</td>\n",
       "      <td>John Arnold</td>\n",
       "      <td>Forestry</td>\n",
       "      <td>ENA Gas Financial</td>\n",
       "      <td>VP Trading</td>\n",
       "      <td>Male</td>\n",
       "      <td>Senior</td>\n",
       "      <td>1722</td>\n",
       "      <td>arnold-j/sent/365</td>\n",
       "      <td>2000-04-11 09:58:00</td>\n",
       "      <td>Option Analysis on NG Price Book</td>\n",
       "      <td>1</td>\n",
       "      <td>1</td>\n",
       "      <td>76</td>\n",
       "    </tr>\n",
       "  </tbody>\n",
       "</table>\n",
       "</div>"
      ],
      "text/plain": [
       "   eid         name department     longdepartment       title gender  \\\n",
       "0    1  John Arnold   Forestry  ENA Gas Financial  VP Trading   Male   \n",
       "1    1  John Arnold   Forestry  ENA Gas Financial  VP Trading   Male   \n",
       "2    1  John Arnold   Forestry  ENA Gas Financial  VP Trading   Male   \n",
       "3    1  John Arnold   Forestry  ENA Gas Financial  VP Trading   Male   \n",
       "4    1  John Arnold   Forestry  ENA Gas Financial  VP Trading   Male   \n",
       "\n",
       "  seniority   mid           filename           unix_time  \\\n",
       "0    Senior  1611  arnold-j/sent/379 2000-03-29 08:08:00   \n",
       "1    Senior  1615  arnold-j/sent/377 2000-03-29 11:22:00   \n",
       "2    Senior  1615  arnold-j/sent/377 2000-03-29 11:22:00   \n",
       "3    Senior  1615  arnold-j/sent/377 2000-03-29 11:22:00   \n",
       "4    Senior  1722  arnold-j/sent/365 2000-04-11 09:58:00   \n",
       "\n",
       "                            subject  from_eid  rno  to_eid  \n",
       "0         Re: Insurance Call Spread         1    1      42  \n",
       "1  New curve generation methodology         1    1      76  \n",
       "2  New curve generation methodology         1    2      67  \n",
       "3  New curve generation methodology         1    3     121  \n",
       "4  Option Analysis on NG Price Book         1    1      76  "
      ]
     },
     "execution_count": 303,
     "metadata": {},
     "output_type": "execute_result"
    }
   ],
   "source": [
    "allmerged = empmes.merge(rec, how='inner', on ='mid')\n",
    "\n",
    "print len(allmerged)\n",
    "\n",
    "allmerged.head()"
   ]
  },
  {
   "cell_type": "code",
   "execution_count": 305,
   "metadata": {
    "collapsed": false
   },
   "outputs": [
    {
     "name": "stdout",
     "output_type": "stream",
     "text": [
      "Number of mails recieved by gender : \n",
      "gender\n",
      "Female    15590\n",
      "Male      22798\n",
      "Name: eid, dtype: int64\n"
     ]
    }
   ],
   "source": [
    "\n",
    "print \"Number of mails recieved by gender : \\n\", allmerged.groupby(['gender'])['eid'].count()"
   ]
  },
  {
   "cell_type": "code",
   "execution_count": 307,
   "metadata": {
    "collapsed": false
   },
   "outputs": [
    {
     "name": "stdout",
     "output_type": "stream",
     "text": [
      "Number of Emails recieved by seniority : \n",
      "seniority\n",
      "Junior    15898\n",
      "Senior    22490\n",
      "Name: eid, dtype: int64\n"
     ]
    }
   ],
   "source": [
    "print \"Number of Emails recieved by seniority : \\n\", allmerged.groupby(['seniority'])['eid'].count() "
   ]
  },
  {
   "cell_type": "code",
   "execution_count": 309,
   "metadata": {
    "collapsed": false
   },
   "outputs": [
    {
     "name": "stdout",
     "output_type": "stream",
     "text": [
      "Number of emails recieved by department: \n",
      "Legal       19292\n",
      "Other       11984\n",
      "Forestry     7112\n",
      "Name: department, dtype: int64\n",
      "Number of Employees by department: \n",
      "Other       71\n",
      "Forestry    60\n",
      "Legal       25\n",
      "Name: department, dtype: int64\n"
     ]
    }
   ],
   "source": [
    "print \"Number of emails recieved by department: \\n\", allmerged.department.value_counts()\n",
    "print \"Number of Employees by department: \\n\", emp.department.value_counts()"
   ]
  },
  {
   "cell_type": "code",
   "execution_count": 311,
   "metadata": {
    "collapsed": false
   },
   "outputs": [
    {
     "name": "stdout",
     "output_type": "stream",
     "text": [
      "Top 5 Employees who received most Emails\n"
     ]
    },
    {
     "data": {
      "text/plain": [
       "Jeff Dasovich       3844\n",
       "Tana Jones          2858\n",
       "James D. Steffes    1666\n",
       "Sara Shackleton     1515\n",
       "Mike Grigsby        1204\n",
       "Name: name, dtype: int64"
      ]
     },
     "execution_count": 311,
     "metadata": {},
     "output_type": "execute_result"
    }
   ],
   "source": [
    "print \"Top 5 Employees who received most Emails\"\n",
    "allmerged.name.value_counts()[:5]"
   ]
  },
  {
   "cell_type": "markdown",
   "metadata": {},
   "source": [
    "Which employees sent the most 'mass' emails?"
   ]
  },
  {
   "cell_type": "code",
   "execution_count": 371,
   "metadata": {
    "collapsed": false
   },
   "outputs": [],
   "source": [
    "pivot = pd.pivot_table(allmerged,index=[\"mid\",\"name\"], values=[\"rno\"],\n",
    "                       aggfunc=len).sort_values(by = 'rno', ascending = False)"
   ]
  },
  {
   "cell_type": "code",
   "execution_count": 387,
   "metadata": {
    "collapsed": false
   },
   "outputs": [
    {
     "name": "stdout",
     "output_type": "stream",
     "text": [
      "Top 10 Employees who sent most 'MASS' emails : \n"
     ]
    },
    {
     "data": {
      "text/html": [
       "<div>\n",
       "<table border=\"1\" class=\"dataframe\">\n",
       "  <thead>\n",
       "    <tr style=\"text-align: right;\">\n",
       "      <th></th>\n",
       "      <th>rno</th>\n",
       "    </tr>\n",
       "    <tr>\n",
       "      <th>name</th>\n",
       "      <th></th>\n",
       "    </tr>\n",
       "  </thead>\n",
       "  <tbody>\n",
       "    <tr>\n",
       "      <th>John J. Lavorato</th>\n",
       "      <td>57</td>\n",
       "    </tr>\n",
       "    <tr>\n",
       "      <th>Kenneth Lay</th>\n",
       "      <td>52</td>\n",
       "    </tr>\n",
       "    <tr>\n",
       "      <th>Sally Beck</th>\n",
       "      <td>49</td>\n",
       "    </tr>\n",
       "    <tr>\n",
       "      <th>Monique Sanchez</th>\n",
       "      <td>24</td>\n",
       "    </tr>\n",
       "    <tr>\n",
       "      <th>Louise Kitchen</th>\n",
       "      <td>21</td>\n",
       "    </tr>\n",
       "    <tr>\n",
       "      <th>Susan Scott</th>\n",
       "      <td>21</td>\n",
       "    </tr>\n",
       "    <tr>\n",
       "      <th>Kam Keiser</th>\n",
       "      <td>20</td>\n",
       "    </tr>\n",
       "    <tr>\n",
       "      <th>Mary Hain</th>\n",
       "      <td>17</td>\n",
       "    </tr>\n",
       "    <tr>\n",
       "      <th>Susan M. Scott</th>\n",
       "      <td>16</td>\n",
       "    </tr>\n",
       "    <tr>\n",
       "      <th>Mark E. Haedicke</th>\n",
       "      <td>16</td>\n",
       "    </tr>\n",
       "  </tbody>\n",
       "</table>\n",
       "</div>"
      ],
      "text/plain": [
       "                  rno\n",
       "name                 \n",
       "John J. Lavorato   57\n",
       "Kenneth Lay        52\n",
       "Sally Beck         49\n",
       "Monique Sanchez    24\n",
       "Louise Kitchen     21\n",
       "Susan Scott        21\n",
       "Kam Keiser         20\n",
       "Mary Hain          17\n",
       "Susan M. Scott     16\n",
       "Mark E. Haedicke   16"
      ]
     },
     "execution_count": 387,
     "metadata": {},
     "output_type": "execute_result"
    }
   ],
   "source": [
    "c = pivot.groupby(level=1).first().sort_values(by = 'rno', ascending = False)\n",
    "print \"Top 10 Employees who sent most 'MASS' emails : \\n\", \n",
    "c.head(10)"
   ]
  },
  {
   "cell_type": "markdown",
   "metadata": {},
   "source": [
    "Keep exploring the dataset, which other questions would you ask?\n",
    "\n",
    "Work in pairs. Give each other a challenge and try to solve it."
   ]
  }
 ],
 "metadata": {
  "anaconda-cloud": {},
  "kernelspec": {
   "display_name": "Python [default]",
   "language": "python",
   "name": "python2"
  },
  "language_info": {
   "codemirror_mode": {
    "name": "ipython",
    "version": 2
   },
   "file_extension": ".py",
   "mimetype": "text/x-python",
   "name": "python",
   "nbconvert_exporter": "python",
   "pygments_lexer": "ipython2",
   "version": "2.7.12"
  }
 },
 "nbformat": 4,
 "nbformat_minor": 0
}
